{
 "cells": [
  {
   "cell_type": "markdown",
   "id": "fd0a016b-61b6-46cc-ae15-abd1d324189f",
   "metadata": {},
   "source": [
    "# 1. Intoroduction to derivatives"
   ]
  },
  {
   "cell_type": "markdown",
   "id": "592c9b85-b244-435c-a4d8-1d48b0a54453",
   "metadata": {},
   "source": [
    "<section>\n",
    "                <p>Derivatives are financial instruments whose value is derived from the value of an underlying asset, index, or rate. They are contracts between two or more parties whose price is dependent upon or derived from one or more underlying assets. The primary purpose of derivatives is to hedge risk or to speculate on the future price movements of an asset. Derivatives come in various forms, including futures, options, swaps, and forwards.</p></section>\r\n",
    "\r\n"
   ]
  },
  {
   "cell_type": "markdown",
   "id": "5ffda2cb-ad3b-4064-a6e6-91e41d8945b2",
   "metadata": {},
   "source": [
    "<html lang=\"en\">\n",
    "<head>\n",
    "    <meta charset=\"UTF-8\">\n",
    "    <meta name=\"viewport\" content=\"width=device-width, initial-scale=1.0\">\n",
    "</head>\n",
    "<body>\n",
    "    <section>\n",
    "        <h1>Types of Derivatives</h1>\n",
    "        <p>Derivatives are complex financial instruments that derive their value from an underlying asset or benchmark. They are primarily used for hedging risk or for speculative purposes. The main types of derivatives include futures, options, swaps, and forwards. Each type serves different market needs and offers various levels of risk and reward.</p>\n",
    "        \n",
    "<h2>Futures Contracts</h2>\n",
    "        <p>Futures contracts are standardized agreements to buy or sell an asset at a future date and price. These contracts are traded on exchanges and are legally binding. They are commonly used for commodities, currencies, and financial instruments.</p>\n",
    "        \n",
    "<h2>Options</h2>\n",
    "        <p>Options provide the holder the right, but not the obligation, to buy (call option) or sell (put option) an underlying asset at a specified price within a certain period. Options are versatile instruments that can be used for hedging or speculation.</p>\n",
    "        \n",
    "<h2>Swaps</h2>\n",
    "        <p>Swaps mare private agreements between two parties to exchange cash flows in the future according to a predetermined formula. They can be used to swap interest rates (interest rate swaps), currencies (currency swaps), or commodities (commodity swaps).</p>\n",
    "        \n",
    "<h2>Forwards</h2>\n",
    "        <p>Forwards are customized contracts between two parties to buy or sell an asset at a specified price on a future date. Unlike futures, forwards are traded over-the-counter (OTC) and are not standardized.</p>\n",
    "        \n",
    " \n",
    "</section>\n",
    "</body>\n",
    "</html>\n"
   ]
  },
  {
   "cell_type": "markdown",
   "id": "559b5ad2-d0c8-41c3-8f73-6775f513daf7",
   "metadata": {},
   "source": [
    "# 2. A little bit of history"
   ]
  },
  {
   "cell_type": "markdown",
   "id": "cbf961f3-a5ae-4ee4-a4fa-328f00505398",
   "metadata": {},
   "source": [
    "<p>The early use of options can be traced back to ancient Greece, where philosopher Thales of Miletus demonstrated a sophisticated understanding of options trading. According to historical accounts by Aristotle, Thales predicted a bountiful olive harvest and secured the rights to use olive presses in advance by paying a deposit. When his prediction came true, the demand for olive presses surged, and Thales was able to lease out his rights at a much higher price, making a significant profit. This story highlights the foundational principles of options trading: the right, but not the obligation, to execute a transaction at a predetermined price, showcasing the strategic economic thinking that predates modern financial markets.</p>\n",
    "<img src='Tales.jpg' style=\"display: block; margin: auto; width:200px;\" alt='Illustration of Thales of Miletus'/>\n",
    "\n",
    "\n",
    ">\n"
   ]
  },
  {
   "cell_type": "markdown",
   "id": "be689e11-b9b9-4504-9a0a-6843029a713e",
   "metadata": {},
   "source": [
    "\n",
    "<p>Similarly, the Code of Hammurabi, an ancient Babylonian code of law, contains what might be considered one of the earliest examples of derivative contracts. Law 48 of the code provided a form of risk management for farmers by allowing them to not pay back loans in the event of a crop failure due to natural disasters. This law effectively transferred the risk from the borrower to the lender, akin to modern derivatives that hedge against unforeseen financial risks. Together, these examples from ancient Greece and Babylon illustrate the long history of financial innovation, demonstrating that the concepts underlying options and derivatives have been understood and applied for thousands of years.</p>\n",
    "\n",
    "<img src='Hamo.jpg' style=\"display: block; margin: auto; width:200px;\" alt='Depiction of the Code of Hammurabi'>\n"
   ]
  },
  {
   "cell_type": "markdown",
   "id": "00afb89b-5f2f-45ee-bdbc-cf44a6129863",
   "metadata": {},
   "source": [
    "# 3. Options"
   ]
  },
  {
   "cell_type": "markdown",
   "id": "35320c21-045f-42ec-b53a-f64b3999e79a",
   "metadata": {},
   "source": [
    "Call options give the holder the right – but not the obligation – to buy something at a specific price for a specific time period.\n",
    "Put options give the holder the right – but not the obligation – to sell something at a specific price for a specific time period."
   ]
  },
  {
   "cell_type": "markdown",
   "id": "bcf40227-3365-4062-98b6-79b195c58760",
   "metadata": {},
   "source": [
    "<section>\r\n",
    "            <h2>What Are Options?</h2>\r\n",
    "            <p>Options are financial derivatives that give buyers the right, but not the obligation, to buy or sell an underlying asset at a predetermined price within a specified period. The two primary types of options are calls and puts. A <em>call option</em> gives the holder the right to purchase an asset at a set price, known as the strike price, while a <em>put option</em> gives the holder the right to sell an asset at the strike price.</p>\r\n",
    "        </sectio"
   ]
  },
  {
   "cell_type": "markdown",
   "id": "cc19d1f5-4b8d-4048-b114-a869b5d75deb",
   "metadata": {},
   "source": [
    "<section>\n",
    "            <h2>How Do Options Work?</h2>\n",
    "            <p>Options are based on underlying assets such as stocks, bonds, commodities, or market indexes. The price of an option, known as the premium, is determined by several factors including the underlying asset's price, the strike price, time to expiration, volatility, and interest rates.</p>\n",
    "            <p>Traders use options for two main purposes: hedging and speculation. <em>Hedging</em> is like buying insurance; it helps protect against adverse price movements in an asset. <em>Speculation</em>, on the other hand, involves predicting the direction in which an asset's price will move and using options to capitalize on these movements.</p>\n",
    "</section>\n",
    "\n",
    "     "
   ]
  },
  {
   "cell_type": "markdown",
   "id": "6e7cc453-14a9-4100-89ed-5115d48e624c",
   "metadata": {},
   "source": [
    "<section>\n",
    "            <h2>American vs. European Options</h2>\n",
    "            <p>American options can be exercised any time before they expire, whereas European options can only be exercised at expiration. This distinction affects the valuation and strategy for each type.</p>\n",
    "</section>\n",
    "\n",
    "   "
   ]
  },
  {
   "cell_type": "markdown",
   "id": "11c20f04-bd02-4485-a3f8-0d455f82b728",
   "metadata": {},
   "source": [
    "<section>\n",
    "            <h2>Valuing Options</h2>\n",
    "            <p>Option valuation is typically performed using mathematical models that take into account the various factors affecting an option's price. The Black-Scholes model is one of the most famous methods for valuing European options, while binomial tree models are often used for American options due to their ability to handle early exercise.</p>\n",
    "</section>\n",
    "\n",
    "        "
   ]
  },
  {
   "cell_type": "markdown",
   "id": "6bbb4c3d-3db3-4c12-90ca-747f08952669",
   "metadata": {},
   "source": [
    "<img src='Determinants.png' style=\"display: block; margin: auto; width:600px;\" alt='Depiction of the Code of Hammurabi'>\n"
   ]
  },
  {
   "cell_type": "code",
   "execution_count": null,
   "id": "61e47e22-0297-44b7-a29d-002bf47979df",
   "metadata": {},
   "outputs": [],
   "source": []
  },
  {
   "cell_type": "markdown",
   "id": "b763621e-8bfc-4b9b-8b33-bfb8acb9d6bd",
   "metadata": {},
   "source": [
    "# 4. Pricing in discrete Time "
   ]
  },
  {
   "cell_type": "markdown",
   "id": "d5ae41d4-bff0-4c61-a52d-00146e9686dd",
   "metadata": {},
   "source": [
    "## 4.1 Cox-Ross-Rubinstein model ( Risk Neutral World With One Asset)"
   ]
  },
  {
   "cell_type": "markdown",
   "id": "f6fc93df-0fc3-44ef-bd82-602c8265c5a5",
   "metadata": {},
   "source": [
    "### European Calls and Puts with no dividends"
   ]
  },
  {
   "cell_type": "markdown",
   "id": "7b39fc1e-6ab0-4c2a-b32b-4d484efb47ad",
   "metadata": {},
   "source": [
    "Consider a security that is currently\n",
    "trading at 100 and that,\n",
    "on some day in the future, can\n",
    "take on one of two prices, 120\n",
    "and 90. Assuming that there are\n",
    "no interest or dividend considerations,\n",
    "<b>would you rather buy\n",
    "or sell this security at today’s\n",
    "price of 100?"
   ]
  },
  {
   "cell_type": "code",
   "execution_count": 11,
   "id": "b85d0ac8-6d56-4b86-ba55-7d152555b046",
   "metadata": {},
   "outputs": [],
   "source": [
    "p = 0 \n",
    "up = 120 \n",
    "down = 90 \n",
    "price_t0 = p * up + (1 - p) * down  "
   ]
  },
  {
   "cell_type": "code",
   "execution_count": 16,
   "id": "01fb8203-5911-44e0-87c6-3404bbf30edd",
   "metadata": {},
   "outputs": [
    {
     "data": {
      "text/plain": [
       "0.3333333333333333"
      ]
     },
     "execution_count": 16,
     "metadata": {},
     "output_type": "execute_result"
    }
   ],
   "source": [
    "price_t0 = 100\n",
    "u = 1.2\n",
    "d = 0.9\n",
    "p = (1 - d) / (u - d)\n",
    "p"
   ]
  },
  {
   "cell_type": "markdown",
   "id": "56794af9-109c-4080-9a28-fe09961ae341",
   "metadata": {},
   "source": [
    "<b>What should p and 1 – p be for a non-dividend-paying stock?"
   ]
  },
  {
   "cell_type": "markdown",
   "id": "736e6cce-0a3f-4af2-b7de-f24aaf8bcbbf",
   "metadata": {},
   "source": [
    "For an investor to be indifferent to buying or selling, the risk neutral probabilities must yield a value that is equal to the forward price for the stock <br> <b> F = S(1 + r × t).\n"
   ]
  },
  {
   "cell_type": "markdown",
   "id": "653f8d58-707c-4c1c-8971-37baf47a7f09",
   "metadata": {},
   "source": [
    "<b> Value of a call in a one step binomial tree:"
   ]
  },
  {
   "cell_type": "code",
   "execution_count": 1,
   "id": "a1901f92-34e4-4084-8411-9e43eea131bd",
   "metadata": {},
   "outputs": [
    {
     "data": {
      "text/latex": [
       "$\\displaystyle \\frac{p \\max\\left(0, S_{u} - X\\right) + \\left(1 - p\\right) \\max\\left(0, S_{d} - X\\right)}{r t + 1}$"
      ],
      "text/plain": [
       "(p*Max(0, S_u - X) + (1 - p)*Max(0, S_d - X))/(r*t + 1)"
      ]
     },
     "execution_count": 1,
     "metadata": {},
     "output_type": "execute_result"
    }
   ],
   "source": [
    "from sympy import symbols, Max, Rational\n",
    "\n",
    "# Define symbols\n",
    "V_call, r, t, p, S_u, S_d, X = symbols('V_call r t p S_u S_d X')\n",
    "\n",
    "# Define the formula\n",
    "V_call =   (p * Max(S_u - X, 0) + (1 - p) * Max(S_d - X, 0))/(1 + (r * t))\n",
    "\n",
    "V_call\n"
   ]
  },
  {
   "cell_type": "markdown",
   "id": "968541dd-1783-430a-b7b6-f28546eef7e2",
   "metadata": {},
   "source": [
    "<b> Value of a put in a one step binomial tree:"
   ]
  },
  {
   "cell_type": "code",
   "execution_count": 14,
   "id": "3fc71a48-c627-49ed-811f-b9bed49a50f7",
   "metadata": {},
   "outputs": [
    {
     "data": {
      "text/latex": [
       "$\\displaystyle \\frac{p \\max\\left(0, - S_{u} + X\\right) + \\left(1 - p\\right) \\max\\left(0, - S_{d} + X\\right)}{r t + 1}$"
      ],
      "text/plain": [
       "(p*Max(0, -S_u + X) + (1 - p)*Max(0, -S_d + X))/(r*t + 1)"
      ]
     },
     "execution_count": 14,
     "metadata": {},
     "output_type": "execute_result"
    }
   ],
   "source": [
    "from sympy import symbols, Max\n",
    "\n",
    "# Define symbols\n",
    "V_put, r, t, p, X, S_u, S_d = symbols('V_put r t p X S_u S_d')\n",
    "\n",
    "# Define the formula for the value of a put option using the same symbols\n",
    "V_put = (p * Max(0, X - S_u) + (1 - p) * Max(0, X - S_d)) / (1 + r * t)\n",
    "\n",
    "V_put\n"
   ]
  },
  {
   "cell_type": "markdown",
   "id": "fa9b1967-fd4f-4b05-8320-7db7af360e9c",
   "metadata": {},
   "source": [
    "### Example 1 step Binomial Tree"
   ]
  },
  {
   "cell_type": "code",
   "execution_count": 27,
   "id": "96a0a698-db84-412d-96df-7e7b075e157b",
   "metadata": {},
   "outputs": [
    {
     "name": "stdout",
     "output_type": "stream",
     "text": [
      "0.5363636363636365 0.4636363636363635\n",
      "Call Value at t0, Put Value at t0 = (10.4912202711714, 7.55723494109802)\n"
     ]
    }
   ],
   "source": [
    "from sympy import symbols, Max\n",
    "\n",
    "# Define symbols\n",
    "V_call, V_put, r, T, p, X, S, u, d = symbols('V_call V_put r T p X S u d')\n",
    "\n",
    "# Given values\n",
    "S0 = 100  # Initial stock price\n",
    "u = 1.2   # Upward movement factor\n",
    "d = 1/u   # Downward movement factor (1/1.2)\n",
    "r = 0.03  # Risk-free interest rate\n",
    "T = 0.75  # Time to maturity in years (9 months)\n",
    "X = 100   # Strike price\n",
    "\n",
    "# Calculate the risk-neutral probability p\n",
    "p = (1 + r - d) / (u - d)\n",
    "print(p, 1 -p)\n",
    "# Calculate the option prices at the end of the binomial tree step\n",
    "S_u = S0 * u\n",
    "S_d = S0 * d\n",
    "\n",
    "# Call and Put payoff at T\n",
    "call_payoff_u = Max(0, S_u - X)\n",
    "call_payoff_d = Max(0, S_d - X)\n",
    "put_payoff_u = Max(0, X - S_u)\n",
    "put_payoff_d = Max(0, X - S_d)\n",
    "\n",
    "# Binomial option pricing formula\n",
    "V_call = ((p * call_payoff_u + (1 - p) * call_payoff_d) / (1 + r * T) ).evalf()\n",
    "V_put = ((p * put_payoff_u + (1 - p) * put_payoff_d) / (1 + r * T) ).evalf()\n",
    "\n",
    "print('Call Value at t0, Put Value at t0 =',(V_call, V_put))\n"
   ]
  },
  {
   "cell_type": "code",
   "execution_count": 36,
   "id": "204352c8-0f1a-4058-98c3-6ab20eea79e8",
   "metadata": {},
   "outputs": [
    {
     "data": {
      "text/plain": [
       "7.557234941098016"
      ]
     },
     "execution_count": 36,
     "metadata": {},
     "output_type": "execute_result"
    }
   ],
   "source": [
    "(1-p)*-(100*d- 100)/(1+0.03*T)"
   ]
  },
  {
   "cell_type": "markdown",
   "id": "599c4d47-606c-4b65-b440-82d96ee82ed3",
   "metadata": {},
   "source": [
    "## 2-steps Binomial Tree\n",
    "<img src='binom.png' style=\"display: block; margin: auto; width:500px;\">"
   ]
  },
  {
   "cell_type": "markdown",
   "id": "d1a8705a-973a-429f-bfd0-199ccd6165e9",
   "metadata": {},
   "source": [
    "## 3-steps Binomial Tree"
   ]
  },
  {
   "cell_type": "code",
   "execution_count": 57,
   "id": "0a2dda3b-100a-4373-8905-6826dd1086c9",
   "metadata": {},
   "outputs": [
    {
     "data": {
      "text/plain": [
       "[[100.0, 0, 0, 0],\n",
       " [95.23809523809523, 105.0, 0, 0],\n",
       " [90.70294784580499, 100.0, 110.25, 0],\n",
       " [86.3837598531476, 95.23809523809523, 105.0, 115.76250000000002]]"
      ]
     },
     "execution_count": 57,
     "metadata": {},
     "output_type": "execute_result"
    }
   ],
   "source": [
    "from sympy import symbols, solve, Eq\n",
    "\n",
    "# Given values\n",
    "S0 = 100  # Initial stock price\n",
    "T = 0.75  # Time to maturity in years (9 months)\n",
    "u = 1.05  # Upward movement factor\n",
    "d = 1/u   # Downward movement factor (1/1.05)\n",
    "n = 3     # Number of steps\n",
    "r = 0.04  # Risk-free interest rate (simple)\n",
    "\n",
    "# Calculate the risk-neutral probability p\n",
    "p = (1 + (r * T/n) - d) / (u - d)\n",
    "\n",
    "# Initialize the binomial tree\n",
    "binomial_tree = [[0 for _ in range(n+1)] for _ in range(n+1)]\n",
    "\n",
    "# Populate the binomial tree with the stock prices\n",
    "for step in range(n+1):\n",
    "    for i in range(step + 1):\n",
    "        binomial_tree[step][i] = S0 * (u ** i) * (d ** (step - i))\n",
    "\n",
    "binomial_tree\n"
   ]
  },
  {
   "attachments": {},
   "cell_type": "markdown",
   "id": "92742731-1bb8-4cde-ae69-6fdb5032ec15",
   "metadata": {},
   "source": [
    "<img src='tree.png' style=\"display: block; margin: auto; width:500px;\">"
   ]
  },
  {
   "cell_type": "code",
   "execution_count": 59,
   "id": "f942007e-70ff-41e7-93da-9e418a9bf552",
   "metadata": {},
   "outputs": [
    {
     "data": {
      "text/plain": [
       "(5.22431187354384, 2.28332666630829)"
      ]
     },
     "execution_count": 59,
     "metadata": {},
     "output_type": "execute_result"
    }
   ],
   "source": [
    "from sympy import symbols, Max\n",
    "\n",
    "# Given values and binomial tree from previous output\n",
    "S0 = 100  # Initial stock price\n",
    "T = 0.75  # Time to maturity in years (9 months)\n",
    "u = 1.05  # Upward movement factor\n",
    "d = 1/u   # Downward movement factor\n",
    "n = 3     # Number of steps\n",
    "r = 0.04  # Risk-free interest rate (simple)\n",
    "X = 100   # Strike price\n",
    "\n",
    "# Calculate the risk-neutral probability p\n",
    "p = (1 + (r * T/n) - d) / (u - d)\n",
    "\n",
    "# Binomial tree prices from previous calculation\n",
    "binomial_tree = [\n",
    "    [100.0],\n",
    "    [95.23809523809523, 105.0],\n",
    "    [90.70294784580499, 100.0, 110.25],\n",
    "    [86.3837598531476, 95.23809523809523, 105.0, 115.76250000000002]\n",
    "]\n",
    "\n",
    "# Initialize call and put option prices at maturity (Step n)\n",
    "call_values = [Max(price - X, 0) for price in binomial_tree[-1]]\n",
    "put_values = [Max(X - price, 0) for price in binomial_tree[-1]]\n",
    "\n",
    "# Backward induction to calculate the option prices at time 0\n",
    "for step in reversed(range(n)):\n",
    "    call_values = [(p * call_values[i+1] + (1 - p) * call_values[i]) / (1 + r * T/n) for i in range(step + 1)]\n",
    "    put_values = [(p * put_values[i+1] + (1 - p) * put_values[i]) / (1 + r * T/n) for i in range(step + 1)]\n",
    "\n",
    "(call_values[0], put_values[0])\n"
   ]
  },
  {
   "cell_type": "markdown",
   "id": "448c0009-0858-42b6-872a-66277264ba14",
   "metadata": {},
   "source": [
    "<img src='call value tree.png' style=\"display: block; margin: auto; width:500px;\">"
   ]
  },
  {
   "cell_type": "markdown",
   "id": "17a3ec10-2d38-44cf-adb9-12ed40d81a35",
   "metadata": {},
   "source": [
    "<img src='put binom.png' style=\"display: block; margin: auto; width:500px;\">"
   ]
  },
  {
   "cell_type": "markdown",
   "id": "42656db7-5c90-4e4c-a3a8-df9bc551cdf3",
   "metadata": {},
   "source": [
    "## Case of an American Option Put\n"
   ]
  },
  {
   "cell_type": "markdown",
   "id": "24e3783b-6683-4a55-8d3e-0943026748d8",
   "metadata": {},
   "source": [
    "<b>In the case of an american we check at each node if the intrisic value is above the value european price, if that is the case then we replace the call/put price by the intrinsic value found and work backword to finding the price."
   ]
  },
  {
   "cell_type": "markdown",
   "id": "0d30dc2b-5305-43bc-a5ba-15e1395e3519",
   "metadata": {},
   "source": [
    "<img src='american put.png' style=\"display: block; margin: auto; width:500px;\">"
   ]
  },
  {
   "cell_type": "code",
   "execution_count": 4,
   "id": "b2d48641-6da8-4677-b7b6-c47f4630c092",
   "metadata": {},
   "outputs": [
    {
     "name": "stdout",
     "output_type": "stream",
     "text": [
      "(Call Price, Put Pice) =  (5.22431187354384, 2.44628880988419)\n"
     ]
    }
   ],
   "source": [
    "from sympy import Max, symbols, solve\n",
    "\n",
    "# Define symbols\n",
    "S, T, u, d, n, r, p, C, P, X = symbols('S T u d n r p C P X')\n",
    "\n",
    "# Given values\n",
    "S0 = 100  # Initial stock price\n",
    "T = 0.75  # Time to maturity in years (9 months)\n",
    "u = 1.05  # Upward movement factor\n",
    "d = 1/u   # Downward movement factor\n",
    "n = 3     # Number of steps\n",
    "r = 0.04  # Risk-free interest rate\n",
    "X = 100   # Strike price\n",
    "\n",
    "# Calculate the risk-neutral probability p\n",
    "p = (1 + (r * T/n) - d) / (u - d)\n",
    "\n",
    "# The binomial tree for stock prices at each node\n",
    "# Level 0: S0\n",
    "# Level 1: S0*u, S0*d\n",
    "# Level 2: S0*u*u, S0, S0*d*d\n",
    "# Level 3: S0*u*u*u, S0*u, S0*d, S0*d*d*d\n",
    "\n",
    "# Function to calculate the option price at each node\n",
    "def option_price(S, X, p, u, d, r, T, n, option_type=\"call\"):\n",
    "    # Initialize the prices at maturity\n",
    "    prices = [Max(S * u**i * d**(n-i) - X, 0) if option_type == \"call\" else Max(X - S * u**i * d**(n-i), 0) for i in range(n+1)]\n",
    "    \n",
    "    # Discount each price back to the present value\n",
    "    for i in range(n-1, -1, -1):\n",
    "        for j in range(i+1):\n",
    "            # For American options, consider the possibility of early exercise\n",
    "            exercise = Max(S * u**j * d**(i-j) - X, 0) if option_type == \"call\" else Max(X - S * u**j * d**(i-j), 0)\n",
    "            prices[j] = Max(exercise, (p * prices[j+1] + (1 - p) * prices[j]) / (1 + r * T/n))\n",
    "    \n",
    "    return prices[0]\n",
    "\n",
    "# Calculate the American call and put option prices\n",
    "C = option_price(S0, X, p, u, d, r, T, n, \"call\")\n",
    "P = option_price(S0, X, p, u, d, r, T, n, \"put\")\n",
    "\n",
    "print( '(Call Price, Put Pice) = ',(C, P))\n"
   ]
  },
  {
   "cell_type": "markdown",
   "id": "8c6f0a73-da14-4b9e-a69d-c692116b359c",
   "metadata": {},
   "source": [
    "## General Formula \n"
   ]
  },
  {
   "attachments": {},
   "cell_type": "markdown",
   "id": "7cd09f6b-0604-4c86-a511-10cbcd877db8",
   "metadata": {},
   "source": [
    "<img src='genfor.png' style=\"display: block; margin: auto; width:500px;\">"
   ]
  },
  {
   "cell_type": "markdown",
   "id": "02c35ebe-53e1-4608-8e33-1b4746a8fe19",
   "metadata": {},
   "source": [
    "# Exerice I\n"
   ]
  },
  {
   "cell_type": "markdown",
   "id": "422b3815-b39b-44ed-afe1-70691356691d",
   "metadata": {},
   "source": [
    "<table border=\"1\">\n",
    "  <tr>\n",
    "    <th>Type</th>\n",
    "    <th>Strike</th>\n",
    "    <th>Market Price</th>\n",
    "    <th>Premium</th>\n",
    "    <th>VI</th>\n",
    "    <th>VT</th>\n",
    "    <th>Position</th>\n",
    "  </tr>\n",
    "  <tr>\n",
    "    <td>CALL</td>\n",
    "    <td>80</td>\n",
    "    <td>84</td>\n",
    "    <td>7</td>\n",
    "    <td></td>\n",
    "    <td></td>\n",
    "    <td></td>\n",
    "  </tr>\n",
    "  <tr>\n",
    "    <td>CALL</td>\n",
    "    <td>70</td>\n",
    "    <td>76</td>\n",
    "    <td>9</td>\n",
    "    <td></td>\n",
    "    <td></td>\n",
    "    <td></td>\n",
    "  </tr>\n",
    "  <tr>\n",
    "    <td>PUT</td>\n",
    "    <td>50</td>\n",
    "    <td>53</td>\n",
    "    <td>4</td>\n",
    "    <td></td>\n",
    "    <td></td>\n",
    "    <td></td>\n",
    "  </tr>\n",
    "  <tr>\n",
    "    <td>PUT</td>\n",
    "    <td>60</td>\n",
    "    <td>56</td>\n",
    "    <td>7</td>\n",
    "    <td></td>\n",
    "    <td></td>\n",
    "    <td></td>\n",
    "  </tr>\n",
    "  <tr>\n",
    "    <td>PUT</td>\n",
    "    <td>45</td>\n",
    "    <td>45</td>\n",
    "    <td>2</td>\n",
    "    <td></td>\n",
    "    <td></td>\n",
    "    <td></td>\n",
    "  </tr>\n",
    "  <tr>\n",
    "    <td>PUT</td>\n",
    "    <td>25</td>\n",
    "    <td>23</td>\n",
    "    <td>3</td>\n",
    "    <td>0</td>\n",
    "    <td>3</td>\n",
    "    <td></td>\n",
    "  </tr>\n",
    "  <tr>\n",
    "    <td>PUT</td>\n",
    "    <td>75</td>\n",
    "    <td></td>\n",
    "    <td>3</td>\n",
    "    <td>3</td>\n",
    "    <td>6</td>\n",
    "    <td></td>\n",
    "  </tr>\n",
    "  <tr>\n",
    "    <td>PUT</td>\n",
    "    <td>100</td>\n",
    "    <td>109</td>\n",
    "    <td>15</td>\n",
    "    <td>9</td>\n",
    "    <td>6</td>\n",
    "    <td>OUT</td>\n",
    "  </tr>\n",
    "</table>\n"
   ]
  },
  {
   "cell_type": "markdown",
   "id": "1bb48315-1e8f-4ea4-9a75-4af32243bc23",
   "metadata": {},
   "source": [
    "## Exercice II "
   ]
  },
  {
   "cell_type": "markdown",
   "id": "ac50a2b6-d978-4912-bb9f-ba6b7b66550f",
   "metadata": {},
   "source": [
    "\n",
    "On 10/23/2020, Pfizer's stock is trading at 38.18 USD. You buy 2,500 call options with an expiration date of 12/15/2020 and a strike price of $36, with a 2/1 parity, priced at 2.80 euros, with a lot size of 250.\n",
    "\n",
    "- How is the call positioned in relation to the money?\n",
    "- What is the intrinsic value of the purchased option?\n",
    "- What is the breakeven point of such a position?\n",
    "- How many Pfizer shares can be sold at the price of 48 euros?"
   ]
  },
  {
   "cell_type": "markdown",
   "id": "d480171e-05c4-4867-a553-245d214be784",
   "metadata": {},
   "source": []
  }
 ],
 "metadata": {
  "kernelspec": {
   "display_name": "Python 3 (ipykernel)",
   "language": "python",
   "name": "python3"
  },
  "language_info": {
   "codemirror_mode": {
    "name": "ipython",
    "version": 3
   },
   "file_extension": ".py",
   "mimetype": "text/x-python",
   "name": "python",
   "nbconvert_exporter": "python",
   "pygments_lexer": "ipython3",
   "version": "3.9.18"
  }
 },
 "nbformat": 4,
 "nbformat_minor": 5
}
