{
 "cells": [
  {
   "cell_type": "code",
   "execution_count": null,
   "id": "07c21342-e02a-436d-ba3e-a0802a24a6a7",
   "metadata": {},
   "outputs": [],
   "source": [
    "import pandas as pd \n",
    "import numpy as np\n",
    "from utils_ import utilss\n",
    "from utils_ import ImpliedVar\n",
    "from models.Core import Core\n",
    "import matplotlib.pyplot as plt \n",
    "import warnings \n",
    "from utils_ import IVTermStructure\n",
    "import tqdm\n",
    "from models import FiniteDifference\n",
    "warnings.filterwarnings('ignore')\n"
   ]
  },
  {
   "cell_type": "markdown",
   "id": "50135d0c-8039-4937-9ded-fbb0fe8b6e99",
   "metadata": {},
   "source": [
    "# Upload, clean and process the Data\n"
   ]
  },
  {
   "cell_type": "code",
   "execution_count": null,
   "id": "87365bef-4b36-4c6a-b22e-9923dda94a43",
   "metadata": {},
   "outputs": [],
   "source": [
    "dfx = utilss.process_and_merge_data(['data/aapl_2016_2020.csv'], ['TB3MS'], start_date='2016-01-01', end_date='2023-04-30')"
   ]
  },
  {
   "cell_type": "code",
   "execution_count": null,
   "id": "0bc6c61b-8844-4562-b378-1871ca20e4a9",
   "metadata": {},
   "outputs": [],
   "source": [
    "dfx['C_VOLUME']=  dfx['C_VOLUME'].astype('float')\n",
    "dfx['P_VOLUME']=  dfx['P_VOLUME'].astype('float')\n"
   ]
  },
  {
   "cell_type": "code",
   "execution_count": null,
   "id": "72c7ed7d-9f82-497e-a204-f8a92ef054b7",
   "metadata": {},
   "outputs": [],
   "source": [
    "df.columns"
   ]
  },
  {
   "cell_type": "code",
   "execution_count": null,
   "id": "98e70c80-9f51-4a40-b0e0-768936b65da2",
   "metadata": {},
   "outputs": [],
   "source": [
    "dfx=dfx.dropna()\n",
    "df_sub=dfx[(dfx['C_VOLUME']>=50) ].iloc[:1000, :]"
   ]
  },
  {
   "cell_type": "code",
   "execution_count": null,
   "id": "4c8ebf28-89b3-457a-ab50-0bac6660cd25",
   "metadata": {
    "scrolled": true
   },
   "outputs": [],
   "source": [
    "df_sub"
   ]
  },
  {
   "cell_type": "markdown",
   "id": "7f5c7698-c67e-4576-8d69-04d2e15e0069",
   "metadata": {},
   "source": [
    "# Recalculate the greeks "
   ]
  },
  {
   "cell_type": "code",
   "execution_count": null,
   "id": "de2fd608-2218-4422-9e02-9cfd3bacec5b",
   "metadata": {
    "scrolled": true
   },
   "outputs": [],
   "source": [
    "opml_instance = Core(dfx)\n",
    "df=opml_instance.add_greeks_to_df()\n",
    "df=opml_instance.add_bs_call_price()\n",
    "df['QUOTE_DATE'] = pd.to_datetime(df['QUOTE_DATE'], format='%Y-%m-%d')\n",
    "df['Option_Contract_ID'] = (\"OP\" + df['STRIKE'].astype(str) + '-'+ df['EXPIRE_DATE'].dt.month.astype(str).str.zfill(2) +'-'+  df['EXPIRE_DATE'].dt.year.astype(str))\n"
   ]
  },
  {
   "cell_type": "code",
   "execution_count": null,
   "id": "e102cabc-0feb-4a9b-94a0-7e8282157425",
   "metadata": {},
   "outputs": [],
   "source": []
  },
  {
   "cell_type": "code",
   "execution_count": null,
   "id": "75930ecf-d809-4b45-927d-97e004af63fd",
   "metadata": {},
   "outputs": [],
   "source": [
    "iv_term_structure = IVTermStructure.IVTermStructure(df)\n",
    "term_structures_df = iv_term_structure.get_iv_term_structure()\n",
    "print(term_structures_df)"
   ]
  },
  {
   "cell_type": "code",
   "execution_count": null,
   "id": "18006bc6-8508-4935-a6c4-2e94ae7d1de3",
   "metadata": {
    "scrolled": true
   },
   "outputs": [],
   "source": [
    "plt.figure(figsize=(15,10))\n",
    "df.groupby(['QUOTE_DATE'])[['C_THETA_BS', 'C_THETA']].median().plot()\n",
    "df.groupby(['QUOTE_DATE'])[['C_IV', 'C_AS_PERCT_OF_UNDER']].median().plot()\n",
    "df.groupby(['QUOTE_DATE'])[['C_RHO_BS', 'C_RHO']].std().plot()\n",
    "df[['C_RHO_BS', 'C_RHO']].quantile(0.6)"
   ]
  },
  {
   "cell_type": "code",
   "execution_count": null,
   "id": "49cfb054-2967-46c7-b988-ef721372ece9",
   "metadata": {
    "jupyter": {
     "source_hidden": true
    }
   },
   "outputs": [],
   "source": [
    "df.groupby(['QUOTE_DATE'])[['C_VOLUME']].median().plot()\n",
    "df.groupby(['QUOTE_DATE'])[['P_VOLUME']].median().plot()\n"
   ]
  },
  {
   "cell_type": "code",
   "execution_count": null,
   "id": "e7489529-d55d-45bd-982e-5a5fca7662d6",
   "metadata": {
    "jupyter": {
     "source_hidden": true
    },
    "scrolled": true
   },
   "outputs": [],
   "source": [
    "df.groupby(['QUOTE_DATE'])['STRIKE_DISTANCE_PCT'].min().plot()\n",
    "df.groupby(['QUOTE_DATE'])['C_AS_PERCT_OF_UNDER'].min().plot(label='c as %')\n",
    "plt.legend()"
   ]
  },
  {
   "cell_type": "code",
   "execution_count": null,
   "id": "af8beacc-cb5e-48a9-86b6-be9cb979a191",
   "metadata": {
    "scrolled": true
   },
   "outputs": [],
   "source": [
    "df[['C_RHO_BS', 'C_RHO']].quantile(0.998)"
   ]
  },
  {
   "cell_type": "code",
   "execution_count": null,
   "id": "9650e62e-3cb1-492a-9407-03757ddb5d89",
   "metadata": {
    "jupyter": {
     "source_hidden": true
    }
   },
   "outputs": [],
   "source": [
    "df.groupby(['QUOTE_DATE'])[['C_MIDPRICE', 'BS_CALL_PRICE']].mean().plot()\n"
   ]
  },
  {
   "cell_type": "code",
   "execution_count": null,
   "id": "9c83e538-55e5-4ca8-9bec-e86a0a8a2da0",
   "metadata": {},
   "outputs": [],
   "source": []
  },
  {
   "cell_type": "code",
   "execution_count": null,
   "id": "2cccf7af-d7c4-4cce-a4a0-b87c29835785",
   "metadata": {},
   "outputs": [],
   "source": [
    "df[df['QUOTE_DATE']=='2017-09-15'].groupby(['STRIKE'])['EXPIRE_DATE'].mean()\n"
   ]
  },
  {
   "cell_type": "code",
   "execution_count": null,
   "id": "a16f7ea1-dcc1-4b70-a259-abfc8b0ed102",
   "metadata": {},
   "outputs": [],
   "source": []
  },
  {
   "cell_type": "code",
   "execution_count": null,
   "id": "36ffdf14-82fd-4636-aa3a-5019a4c78d79",
   "metadata": {},
   "outputs": [],
   "source": [
    "df.Option_Contract_ID.unique()"
   ]
  },
  {
   "cell_type": "code",
   "execution_count": null,
   "id": "53297aa4-b8c2-43a4-b447-8c08afc37d47",
   "metadata": {},
   "outputs": [],
   "source": [
    "df[df['Option_Contract_ID']=='OP97.5-03-2016'].groupby('QUOTE_DATE')['UNDERLYING_LAST'].mean().plot()\n"
   ]
  },
  {
   "cell_type": "code",
   "execution_count": null,
   "id": "80b9d2e6-b831-42a7-8404-71ae3eff12fe",
   "metadata": {},
   "outputs": [],
   "source": [
    "df[df['Option_Contract_ID']=='OP97.5-03-2016'].BS_CALL_PRICE.plot()\n",
    "df[df['Option_Contract_ID']=='OP97.5-03-2016'].C_ASK.plot()\n",
    "df[df['Option_Contract_ID']=='OP97.5-03-2016'].C_BID.plot()\n"
   ]
  },
  {
   "cell_type": "code",
   "execution_count": null,
   "id": "d5ae0ee5-a6bb-44f5-ba86-20b478539947",
   "metadata": {},
   "outputs": [],
   "source": [
    "df[df['Option_Contract_ID']=='OP120.0-01-2017']"
   ]
  },
  {
   "cell_type": "markdown",
   "id": "90defc2b-6bf8-4c44-aec5-f96abc19d4f6",
   "metadata": {
    "jp-MarkdownHeadingCollapsed": true
   },
   "source": [
    "## Visualize the volatility surface  "
   ]
  },
  {
   "cell_type": "code",
   "execution_count": null,
   "id": "931c2f79-d005-4104-b445-f499aa70c98e",
   "metadata": {
    "scrolled": true
   },
   "outputs": [],
   "source": [
    "import matplotlib.pyplot as plt\n",
    "from mpl_toolkits.mplot3d import Axes3D\n",
    "\n",
    "# Create a copy of the dataframe\n",
    "copy_df = df.copy()\n",
    "\n",
    "# Create empty lists to store data\n",
    "dates = []\n",
    "C_IV_values = []\n",
    "strike_values = []\n",
    "DTE_values = []\n",
    "\n",
    "# Iterate over unique dates\n",
    "for date in copy_df['QUOTE_DATE'].unique():\n",
    "    daily_mat = copy_df[copy_df['QUOTE_DATE'] == date] \n",
    "    \n",
    "    C_IV = daily_mat['C_IV'].values\n",
    "    K = daily_mat['STRIKE'].values\n",
    "    DTE = daily_mat['DTE'].values\n",
    "    \n",
    "    \n",
    "\n",
    "# Create a 3D plot\n",
    "    fig = plt.figure(figsize=(10,10))\n",
    "    \n",
    "    ax = fig.add_subplot(111, projection='3d')\n",
    "# Plot the vol surface\n",
    "    ax.scatter(DTE, K, C_IV)\n",
    "\n",
    "# Set labels and title\n",
    "    ax.set_xlabel('DAYS TO MATURITY')\n",
    "    ax.set_ylabel('Moneyness')\n",
    "    ax.set_zlabel('Implcit Call Volatility')\n",
    "    ax.set_title(date)\n",
    "\n",
    "# Show the plot\n",
    "    plt.show()"
   ]
  },
  {
   "cell_type": "code",
   "execution_count": null,
   "id": "6d42a07c-3c8f-436c-8f27-e18e6c0f1c83",
   "metadata": {},
   "outputs": [],
   "source": [
    "import matplotlib.pyplot as plt\n",
    "from mpl_toolkits.mplot3d import Axes3D\n",
    "from matplotlib.animation import FuncAnimation, PillowWriter\n",
    "import pandas as pd\n",
    "import numpy as np\n",
    "\n",
    "# Assuming 'df' is pre-defined with columns 'QUOTE_DATE', 'C_IV', 'STRIKE', 'DTE'\n",
    "\n",
    "# Make a copy of the DataFrame to ensure original data is not modified\n",
    "copy_df = df.copy()\n",
    "\n",
    "# Setup figure and 3D axis for the plot\n",
    "fig = plt.figure(figsize=(10, 10))\n",
    "ax = fig.add_subplot(111, projection='3d')\n",
    "\n",
    "# Set labels for axes\n",
    "ax.set_xlabel('Days to Expiry')\n",
    "ax.set_ylabel('Strike Price')\n",
    "ax.set_zlabel('Implied Call Volatility')\n",
    "\n",
    "# Prepare for animation by sorting unique dates\n",
    "unique_dates = sorted(copy_df['QUOTE_DATE'].unique())\n",
    "\n",
    "# Initialization function for the animation\n",
    "def init():\n",
    "    ax.set_xlabel('Days to Expiry')\n",
    "    ax.set_ylabel('Strike Price')\n",
    "    ax.set_zlabel('Implied Call Volatility')\n",
    "    return fig,\n",
    "\n",
    "# Function to update the plot for each frame\n",
    "def update(frame):\n",
    "    ax.clear()  # Clear current data\n",
    "    # Set labels again because clear() removes them\n",
    "    ax.set_xlabel('Days to Expiry')\n",
    "    ax.set_ylabel('Strike Price')\n",
    "    ax.set_zlabel('Implied Call Volatility')\n",
    "    date = unique_dates[frame]\n",
    "    daily_data = copy_df[copy_df['QUOTE_DATE'] == date]\n",
    "    DTE = daily_data['DTE'].values\n",
    "    Strike = daily_data['STRIKE'].values\n",
    "    IV = daily_data['C_IV'].values\n",
    "    ax.scatter(DTE, Strike, IV, c=IV, cmap='viridis')  # Color mapped by IV\n",
    "    ax.set_title(f'Volatility Surface for {date}')\n",
    "    return fig,\n",
    "\n",
    "# Create animation\n",
    "ani = FuncAnimation(fig, update, frames=len(unique_dates), init_func=init, blit=False, interval=200)\n",
    "\n",
    "# Save the animation as a GIF\n",
    "ani.save('volatility_surface_animation.gif', writer=PillowWriter(fps=2))\n",
    "\n",
    "# If you want to display the animation in a Jupyter notebook, you can uncomment:\n",
    "# from IPython.display import HTML\n",
    "# HTML(ani.to_html5_video())\n"
   ]
  },
  {
   "cell_type": "markdown",
   "id": "8995e8a8-76ae-42e0-a878-e61cc394ab96",
   "metadata": {
    "jp-MarkdownHeadingCollapsed": true
   },
   "source": [
    "# Deduce the risk free rate [slow to run]"
   ]
  },
  {
   "cell_type": "code",
   "execution_count": null,
   "id": "e9cf55ac-9707-4990-be4f-8c514e7e25cc",
   "metadata": {},
   "outputs": [],
   "source": [
    "opml_instance = OPML(df)\n",
    "df=opml_instance.deduce_r_fallback_multithreaded(initial_guess=0.01)"
   ]
  },
  {
   "cell_type": "markdown",
   "id": "8ad5be9d-3f39-4985-b0a6-8d1dcd2cb654",
   "metadata": {
    "jp-MarkdownHeadingCollapsed": true
   },
   "source": [
    "# Create a tensor"
   ]
  },
  {
   "cell_type": "code",
   "execution_count": null,
   "id": "77027368-fb60-43bd-89ef-0b8ebafb7a81",
   "metadata": {},
   "outputs": [],
   "source": []
  },
  {
   "cell_type": "code",
   "execution_count": null,
   "id": "4b746431-6748-414b-a460-b152ee49b7aa",
   "metadata": {},
   "outputs": [],
   "source": [
    "opml_instance = Core(df)\n",
    "tensor = opml_instance.df_to_tensor_x(index_col='QUOTE_DATE', sort_cols=['QUOTE_DATE', 'STRIKE'])\n",
    "print(tensor.shape)  # Prints the shape of the tensor\n"
   ]
  },
  {
   "cell_type": "code",
   "execution_count": null,
   "id": "eeed805e-3d60-4c5e-9e70-b83bbe295500",
   "metadata": {},
   "outputs": [],
   "source": []
  },
  {
   "cell_type": "code",
   "execution_count": null,
   "id": "93aa1428-c303-468d-9a33-5a719b7fa963",
   "metadata": {},
   "outputs": [],
   "source": [
    "plt.figure(figsize=(10,8))\n",
    "df['C_VOLUME']=df['C_VOLUME'].astype('float')\n",
    "df['P_VOLUME']=df['P_VOLUME'].astype('float')\n",
    "\n",
    "df[df['QUOTE_DATE']==\"2020-01-31\"]['P_VOLUME'].hist(bins=40)"
   ]
  },
  {
   "cell_type": "code",
   "execution_count": null,
   "id": "ea1ad78e-4daf-43a3-8c0a-b5d755b174cd",
   "metadata": {},
   "outputs": [],
   "source": [
    "tensor[0,0:2,:]"
   ]
  },
  {
   "cell_type": "code",
   "execution_count": null,
   "id": "fdb3b551-c56f-4a43-83eb-d6ce821bd03a",
   "metadata": {},
   "outputs": [],
   "source": []
  },
  {
   "cell_type": "code",
   "execution_count": null,
   "id": "cef5afe7-ee45-4e08-aeeb-117b9b8cc651",
   "metadata": {},
   "outputs": [],
   "source": [
    "df.sort_values(by=['QUOTE_DATE', 'STRIKE']).iloc[0,:]"
   ]
  },
  {
   "cell_type": "code",
   "execution_count": null,
   "id": "d0074309-b91c-4153-bcf1-c3aaaf2204af",
   "metadata": {},
   "outputs": [],
   "source": [
    "df.isna().sum()"
   ]
  },
  {
   "cell_type": "markdown",
   "id": "350b7717-4a06-4148-afb2-046607649989",
   "metadata": {
    "jp-MarkdownHeadingCollapsed": true
   },
   "source": [
    "# Finite Difference"
   ]
  },
  {
   "cell_type": "code",
   "execution_count": null,
   "id": "7954e708-1c0b-4525-9c21-c98a245e8f3b",
   "metadata": {},
   "outputs": [],
   "source": [
    "x = df[df['DTE'] != 0].copy().iloc[:5000,:]\n",
    "\n",
    "pricer = FiniteDifference.FiniteDifference(x)\n",
    "pricer.price_options(N=50, M=50, american=True, option_type='call')  # Set american=False for European options\n"
   ]
  },
  {
   "cell_type": "code",
   "execution_count": null,
   "id": "895f4124-5a74-4cae-a2d3-4c0da671310f",
   "metadata": {},
   "outputs": [],
   "source": [
    "df.STRIKE_DISTANCE.head()"
   ]
  },
  {
   "cell_type": "code",
   "execution_count": null,
   "id": "a890d7f7-481a-491a-8458-990fe99267a9",
   "metadata": {},
   "outputs": [],
   "source": [
    "x.groupby(['QUOTE_DATE'])['BS_CALL_PRICE', 'C_ASK', 'Option_Price_FD'].median().plot()"
   ]
  }
 ],
 "metadata": {
  "kernelspec": {
   "display_name": "Python 3 (ipykernel)",
   "language": "python",
   "name": "python3"
  },
  "language_info": {
   "codemirror_mode": {
    "name": "ipython",
    "version": 3
   },
   "file_extension": ".py",
   "mimetype": "text/x-python",
   "name": "python",
   "nbconvert_exporter": "python",
   "pygments_lexer": "ipython3",
   "version": "3.9.18"
  }
 },
 "nbformat": 4,
 "nbformat_minor": 5
}
